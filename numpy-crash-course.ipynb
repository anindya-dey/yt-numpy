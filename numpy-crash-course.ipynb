{
 "cells": [
  {
   "metadata": {},
   "cell_type": "markdown",
   "source": "# Numpy Crash Course",
   "id": "2d3e5048169fc7c8"
  },
  {
   "metadata": {},
   "cell_type": "markdown",
   "source": "## Answer all the questions using `numpy` library",
   "id": "ef76938382db40e7"
  },
  {
   "metadata": {
    "ExecuteTime": {
     "end_time": "2024-05-30T14:38:28.197514Z",
     "start_time": "2024-05-30T14:38:28.182340Z"
    }
   },
   "cell_type": "code",
   "source": [
    "import numpy as np\n",
    "np.__version__"
   ],
   "id": "83d118d6fa71f05e",
   "outputs": [
    {
     "data": {
      "text/plain": [
       "'1.26.4'"
      ]
     },
     "execution_count": 3,
     "metadata": {},
     "output_type": "execute_result"
    }
   ],
   "execution_count": 3
  },
  {
   "metadata": {},
   "cell_type": "markdown",
   "source": "### 1. Create two 1-D `numpy` arrays of zeroes and ones respectively.",
   "id": "48dfdd8b1582bdb2"
  },
  {
   "metadata": {
    "ExecuteTime": {
     "end_time": "2024-05-30T14:39:24.531682Z",
     "start_time": "2024-05-30T14:39:24.528627Z"
    }
   },
   "cell_type": "code",
   "source": "",
   "id": "31c8b405048f6fb2",
   "outputs": [],
   "execution_count": 3
  },
  {
   "metadata": {},
   "cell_type": "markdown",
   "source": "### 2. Create two 2-D `numpy` arrays of zeros and ones respectively.",
   "id": "98a12d44f5c7e897"
  },
  {
   "metadata": {
    "ExecuteTime": {
     "end_time": "2024-05-30T14:39:53.051108Z",
     "start_time": "2024-05-30T14:39:53.049664Z"
    }
   },
   "cell_type": "code",
   "source": "",
   "id": "db9b81cc895409ea",
   "outputs": [],
   "execution_count": 3
  },
  {
   "metadata": {},
   "cell_type": "markdown",
   "source": [
    "### 3. Create two 1-D `numpy` arrays with 50 and 100 numbers within the range of 1 to 10 respectively where the numbers are equally (or linearly) spaced. \n",
    "E.g, a 1-D array consisting of 10 numbers within the range of 1 to 10 which are equally spaced: [1, 2, 3, 4, 5, 6, 7, 8, 9, 10]"
   ],
   "id": "7802fcfd7898af93"
  },
  {
   "metadata": {
    "ExecuteTime": {
     "end_time": "2024-05-30T14:43:40.719712Z",
     "start_time": "2024-05-30T14:43:40.718047Z"
    }
   },
   "cell_type": "code",
   "source": "",
   "id": "10e7738c96e7c306",
   "outputs": [],
   "execution_count": 6
  },
  {
   "metadata": {},
   "cell_type": "code",
   "outputs": [],
   "execution_count": null,
   "source": "",
   "id": "5eda7aaf9e794f7d"
  }
 ],
 "metadata": {
  "kernelspec": {
   "display_name": "Python 3",
   "language": "python",
   "name": "python3"
  },
  "language_info": {
   "codemirror_mode": {
    "name": "ipython",
    "version": 2
   },
   "file_extension": ".py",
   "mimetype": "text/x-python",
   "name": "python",
   "nbconvert_exporter": "python",
   "pygments_lexer": "ipython2",
   "version": "2.7.6"
  }
 },
 "nbformat": 4,
 "nbformat_minor": 5
}
